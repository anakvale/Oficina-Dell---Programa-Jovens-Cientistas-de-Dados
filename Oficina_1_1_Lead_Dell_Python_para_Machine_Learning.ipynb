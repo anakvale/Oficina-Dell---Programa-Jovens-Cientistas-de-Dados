{
  "nbformat": 4,
  "nbformat_minor": 0,
  "metadata": {
    "colab": {
      "name": "Oficina 1.1 Lead Dell - Python para Machine Learning",
      "provenance": [],
      "toc_visible": true,
      "authorship_tag": "ABX9TyOdpbOC8Zf8HZ9wQaGN4own",
      "include_colab_link": true
    },
    "kernelspec": {
      "name": "python3",
      "display_name": "Python 3"
    },
    "language_info": {
      "name": "python"
    }
  },
  "cells": [
    {
      "cell_type": "markdown",
      "metadata": {
        "id": "view-in-github",
        "colab_type": "text"
      },
      "source": [
        "<a href=\"https://colab.research.google.com/github/anakvale/Oficina-Dell---Programa-Jovens-Cientistas-de-Dados/blob/main/Oficina_1_1_Lead_Dell_Python_para_Machine_Learning.ipynb\" target=\"_parent\"><img src=\"https://colab.research.google.com/assets/colab-badge.svg\" alt=\"Open In Colab\"/></a>"
      ]
    },
    {
      "cell_type": "markdown",
      "metadata": {
        "id": "Omj1oezfaaxU"
      },
      "source": [
        "## Oficina 1.1 Lead Dell - Python para Machine Learning"
      ]
    },
    {
      "cell_type": "markdown",
      "metadata": {
        "id": "pMTS6ZbGapZ7"
      },
      "source": [
        "Você foi chamado para trabalhar como novo programador Python para o aplicativo Spotify, analisando as avaliações de músicas pelos usuários. O seu chefe está muito entusiasmado com a sua chegada e já pensou em várias perguntas para você responder. Ele coletou diversas avaliações dos gêneros musicais Rock e Pop.\n",
        "\n",
        "Em cada avaliação o usuário pode dar uma nota em quantidade de estrelas para uma música, de 1 a 5. Ele quer que você mapeie as avaliações numéricas em categorias: entre 0 e 1 estrelas é uma música ruim, entre 2 e 3 é uma música mediana e entre 4 e 5 são para as músicas boas. O seu papel é dizer para o seu chefe quantas músicas ruins, medianas e boas existem para cada gênero: Rock e Pop.\n",
        "\n",
        "Além disso, ele quer saber se existe alguma música mediana de Rock e se todas as músicas de Pop são boas. Por fim, quer saber qual gênero musical teve uma maior quantidade de músicas boas. Abaixo seguem as notas de cada gênero.\n",
        "\n",
        "notas_rock = [5, 1, 4, 0, 2, 5, 2, 1, 0, 5, 5, 3, 5, 2, 5, 5, 3, 5, 4, 4] notas_pop = [3, 2, 5, 1, 2, 1, 4, 1, 5, 0, 4, 2, 1, 2, 5, 2, 4, 4, 0, 1]\n",
        "\n",
        "Pronto, com essas informações você pode começar a desenvolver um programa em Python capaz de responder as perguntas do seu chefe."
      ]
    },
    {
      "cell_type": "code",
      "metadata": {
        "colab": {
          "base_uri": "https://localhost:8080/"
        },
        "id": "fOuOuk95aZKg",
        "outputId": "222d727c-7f96-4905-c15a-e90feaedbba4"
      },
      "source": [
        "notas_rock = [5, 1, 4, 0, 2, 5, 2, 1, 0, 5, 5, 3, 5, 2, 5, 5, 3, 5, 4, 4] \n",
        "\n",
        "def categoria(notas_rock):\n",
        "  if notas_rock <=1:\n",
        "    return \"ruim\"\n",
        "  elif 2 <= notas_rock <= 3:\n",
        "    return \"mediana\"\n",
        "  else:\n",
        "    return \"boa\"\n",
        "\n",
        "classificacao_rock = list(map(categoria, notas_rock))\n",
        "\n",
        "rock_ruins = list(filter(lambda x: x == 'ruim', classificacao_rock))\n",
        "rock_medianas = list(filter(lambda x: x == 'mediana', classificacao_rock))\n",
        "rock_boas = list(filter(lambda x: x == 'boa', classificacao_rock))\n",
        "\n",
        "print(\"Há\", len(rock_ruins), \"músicas de rock ruins,\", len(rock_medianas), \n",
        "      \"músicas de rock medianas e\", len(rock_boas), \"músicas de rock boas.\")\n",
        "\n",
        "notas_pop = [3, 2, 5, 1, 2, 1, 4, 1, 5, 0, 4, 2, 1, 2, 5, 2, 4, 4, 0, 1]\n",
        "\n",
        "def categoria(notas_pop):\n",
        "  if notas_pop <=1:\n",
        "    return \"ruim\"\n",
        "  elif 2 <= notas_pop <= 3:\n",
        "    return \"mediana\"\n",
        "  else:\n",
        "    return \"boa\"\n",
        "\n",
        "classificacao_pop = list(map(categoria, notas_pop))\n",
        "\n",
        "pop_ruins = list(filter(lambda x: x == 'ruim', classificacao_pop))\n",
        "pop_medianas = list(filter(lambda x: x == 'mediana', classificacao_pop))\n",
        "pop_boas = list(filter(lambda x: x == 'boa', classificacao_pop))\n",
        "\n",
        "print(\"Há\", len(pop_ruins), \"músicas de pop ruins,\", len(pop_medianas), \n",
        "      \"músicas de pop medianas e\", len(pop_boas), \"músicas de pop boas.\\n\")\n",
        "\n",
        "#################\n",
        "\n",
        "rock_mediana_booleano = list(map(lambda x: x == 'mediana', classificacao_rock))\n",
        "print(\"Há músicas medianas de rock nesta lista?\", any(rock_mediana_booleano))\n",
        "\n",
        "boas_pop_booleano = list(map(lambda x: x == 'boas', classificacao_rock))\n",
        "print(\"Só existem músicas boas de pop nesta lista?\", all(boas_pop_booleano), \"\\n\")\n",
        "\n",
        "#################\n",
        "\n",
        "if len(rock_boas) > len(pop_boas):\n",
        "  print(\"Há mais músicas boas de rock que de pop nesta lista.\")\n",
        "else:\n",
        "  print(\"Há mais músicas boas de pop que de rock nesta lista.\")"
      ],
      "execution_count": 1,
      "outputs": [
        {
          "output_type": "stream",
          "name": "stdout",
          "text": [
            "Há 4 músicas de rock ruins, 5 músicas de rock medianas e 11 músicas de rock boas.\n",
            "Há 7 músicas de pop ruins, 6 músicas de pop medianas e 7 músicas de pop boas.\n",
            "\n",
            "Há músicas medianas de rock nesta lista? True\n",
            "Só existem músicas boas de pop nesta lista? False \n",
            "\n",
            "Há mais músicas boas de rock que de pop nesta lista.\n"
          ]
        }
      ]
    }
  ]
}