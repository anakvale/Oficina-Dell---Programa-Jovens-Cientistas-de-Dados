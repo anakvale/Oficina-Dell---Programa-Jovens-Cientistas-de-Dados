{
  "nbformat": 4,
  "nbformat_minor": 0,
  "metadata": {
    "colab": {
      "name": "Oficina - IMC.ipynb",
      "provenance": [],
      "collapsed_sections": [],
      "authorship_tag": "ABX9TyNBKkoUYZpEIGRxsVI6+qea",
      "include_colab_link": true
    },
    "kernelspec": {
      "display_name": "Python 3",
      "name": "python3"
    },
    "language_info": {
      "name": "python"
    }
  },
  "cells": [
    {
      "cell_type": "markdown",
      "metadata": {
        "id": "view-in-github",
        "colab_type": "text"
      },
      "source": [
        "<a href=\"https://colab.research.google.com/github/anakvale/Oficina-Dell---Programa-Jovens-Cientistas-de-Dados/blob/main/Oficina_IMC.ipynb\" target=\"_parent\"><img src=\"https://colab.research.google.com/assets/colab-badge.svg\" alt=\"Open In Colab\"/></a>"
      ]
    },
    {
      "cell_type": "code",
      "metadata": {
        "colab": {
          "base_uri": "https://localhost:8080/"
        },
        "id": "nZ8Vl4G8ZVTs",
        "outputId": "c35a8f12-fac2-4cea-d422-3ad6257a64e5"
      },
      "source": [
        "nome = input('Qual o seu nome? ')\n",
        "idade = input('Qual sua idade? ')\n",
        "peso_float= float(input('Qual o seu peso? (em kg) '))\n",
        "altura_float = float(input('Qual sua altura? (em metros) '))\n",
        "\n",
        "print ('')\n",
        "\n",
        "altura_ao_quadrado = altura_float * altura_float\n",
        "imc = peso_float / altura_ao_quadrado\n",
        "\n",
        "# print(\"Olá, \" + nome + \". Você tem \" + idade + \" anos e seu IMC é \" + str(imc))\n",
        "\n",
        "print (f\"Olá, {nome}. Você tem {idade} anos e seu IMC é {imc:.2f}.\")\n",
        "\n",
        "if imc <= 18.5:\n",
        "  print(\"Sua classificação é \\\"abaixo do normal\\\".\")\n",
        "\n",
        "elif 18.6 <= imc <=24.9:\n",
        "  print(\"Sua classificação é \\\"normal\\\".\")\n",
        "\n",
        "elif 25 <= imc <=29.9:\n",
        "  print(\"Sua classificação é \\\"sobrepeso\\\".\")\n",
        "\n",
        "elif 30 <= imc <=34.9:\n",
        "  print(\"Sua classificação é \\\"Obesidade grau I\\\".\")\n",
        "\n",
        "elif 35 <= imc <=39.9:\n",
        "  print(\"Sua classificação é \\\"Obesidade grau II\\\".\")\n",
        "\n",
        "elif imc > 40:\n",
        "  print(\"Sua classificação é \\\"Obesidade grau III\\\".\")\n",
        "\n",
        "else:\n",
        "  print(\"Parece que algo deu errado no cálculo do seu IMC. Por favor tente novamente.\")\n",
        "\n",
        "#fonte dos valores: https://abeso.org.br/obesidade-e-sindrome-metabolica/calculadora-imc/"
      ],
      "execution_count": 52,
      "outputs": [
        {
          "output_type": "stream",
          "name": "stdout",
          "text": [
            "Qual o seu nome? Ana\n",
            "Qual sua idade? 25\n",
            "Qual o seu peso? (em kg) 100\n",
            "Qual sua altura? (em metros) 1.70\n",
            "\n",
            "Olá, Ana. Você tem 25 anos e seu IMC é 34.60.\n",
            "Sua classificação é \"Obesidade grau I\".\n"
          ]
        }
      ]
    }
  ]
}